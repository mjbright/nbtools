{
 "cells": [
  {
   "cell_type": "markdown",
   "id": "591cf488",
   "metadata": {},
   "source": [
    "# Pragma --EXCLUDE--SECTION--\n",
    "\n",
    "## **NOTE:** Save notebook first\n",
    "\n",
    "<div id=\"END\" /> <a href=\"#TOP\" > TOP OF PAGE </a>  <!-- must appear after EXCLUDE pragma !! -->"
   ]
  },
  {
   "cell_type": "code",
   "execution_count": null,
   "id": "d96a9f6e-f58c-4e58-8bd5-a2fefb6373f8",
   "metadata": {},
   "outputs": [],
   "source": [
    "NB_SAVE"
   ]
  },
  {
   "cell_type": "markdown",
   "id": "present-plastic",
   "metadata": {},
   "source": [
    "<hr/>\n",
    "\n",
    "<!-- Why does this no longer work ??\n",
    "<img src=\"../../../static/images/ThickBlueBar.png\" />\n",
    "<img src=\"../../../static/images/LOGO.jpg\" width=200 />\n",
    "-->\n",
    "\n",
    "<img src=\"../images/ThickBlueBar.png\" />\n",
    "<img src=\"../images/LOGO.jpg\" width=200 />"
   ]
  },
  {
   "cell_type": "code",
   "execution_count": null,
   "id": "bbeb14a5",
   "metadata": {
    "tags": []
   },
   "outputs": [],
   "source": [
    "NB_QUIET"
   ]
  }
 ],
 "metadata": {
  "jupytext": {
   "encoding": "# -*- coding: utf-8 -*-"
  },
  "kernelspec": {
   "display_name": "Bash",
   "language": "bash",
   "name": "bash"
  },
  "language_info": {
   "codemirror_mode": "shell",
   "file_extension": ".sh",
   "mimetype": "text/x-sh",
   "name": "bash"
  }
 },
 "nbformat": 4,
 "nbformat_minor": 5
}
