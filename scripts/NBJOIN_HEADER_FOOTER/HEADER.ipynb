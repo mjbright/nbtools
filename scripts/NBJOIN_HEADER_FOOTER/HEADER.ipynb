{
 "cells": [
  {
   "cell_type": "markdown",
   "id": "d103c05d",
   "metadata": {},
   "source": [
    "<div id=\"TOP\" />\n",
    "<a href=\"#END\" > END of Notebook (filter) </a>"
   ]
  },
  {
   "cell_type": "code",
   "execution_count": null,
   "id": "abe11e85",
   "metadata": {
    "tags": []
   },
   "outputs": [],
   "source": [
    "export NB_TF_ENFORCE_CHK=1\n",
    "#[ \"$STUDENT\" = \"student\" ] && STUDENT=studentn\n",
    ". ~/.jup.bashrc\n",
    ". ~/scripts/nbtool.rc 00 MODE OP_MODE_FULL"
   ]
  },
  {
   "cell_type": "code",
   "execution_count": null,
   "id": "89ea8ac4-c405-4d99-92f5-b5fd05252007",
   "metadata": {},
   "outputs": [],
   "source": [
    "#NB_QUIET"
   ]
  }
 ],
 "metadata": {
  "jupytext": {
   "encoding": "# -*- coding: utf-8 -*-"
  },
  "kernelspec": {
   "display_name": "Bash",
   "language": "bash",
   "name": "bash"
  },
  "language_info": {
   "codemirror_mode": "shell",
   "file_extension": ".sh",
   "mimetype": "text/x-sh",
   "name": "bash"
  }
 },
 "nbformat": 4,
 "nbformat_minor": 5
}
