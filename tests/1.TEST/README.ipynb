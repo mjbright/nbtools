{
 "cells": [
  {
   "cell_type": "markdown",
   "id": "1c28b315",
   "metadata": {},
   "source": [
    "<div id=\"TOP\" />\n",
    "<a href=\"#END\" > END of Notebook (filter) </a>\n",
    "\n",
    "# __WARN: You should have the environment variable STUDENT set in your environment, verify with env | grep STUDENT\n",
    "\n",
    "# __INFO: Some info\n",
    "\n",
    "# __ERROR: She's gonna blow captain !\n",
    "\n",
    "# __DETAIL(a test): the solution\n",
    "\n",
    "# __DETAIL(another test): another solution\n",
    "\n",
    "$__ A BOX $\n",
    "<div class=\"alert alert-info\"> <b>Info</b>  - an info </div>\n",
    "<div class=\"alert alert-warning\"> <b>Info</b>  - a warning </div>\n",
    "<div class=\"alert alert-danger\"> <b>Info</b>  - an danger </div>\n",
    "\n",
    "Markdown table generator:\n",
    "https://www.tablesgenerator.com/markdown_tables\n",
    "\n",
    "Examples:\n",
    "\n",
    "1.\n",
    "|  col1 | col2  | col3  | col4  | col5  |\n",
    "|---|---|---|---|---|\n",
    "|  A | B  | C  |  D | E  |\n",
    "|  1 | 2  | 3  |  4 | 5  |\n",
    "|  a | b  | c  |  d | e  |\n",
    "\n",
    "2.\n",
    "| simplest  |\n",
    "|---|\n",
    "\n",
    "3.\n",
    "|  fix this |\n",
    "|:-:|\n",
    "|  problem |"
   ]
  },
  {
   "cell_type": "code",
   "execution_count": 1,
   "id": "0a2cce12-7332-4469-b6fb-b39fcb894b26",
   "metadata": {
    "tags": []
   },
   "outputs": [
    {
     "name": "stdout",
     "output_type": "stream",
     "text": [
      "STUDENT=student\n",
      "/home/student/src/mjbright.labs-private/ServeUpLabs/content/tf-gen/1.InstallTerraform\n",
      "total 1180\n",
      "drwxr-xr-x  3 student student   4096 Jun 14 18:02 .\n",
      "drwxr-xr-x 12 student student   4096 Jun  6 21:05 ..\n",
      "-rw-rw-r--  1 student student     86 May 30 19:59 .dir\n",
      "drwxrwxr-x  2 student student   4096 Jun  5 19:10 .ipynb_checkpoints\n",
      "-rw-rw-r--  1 student student  36213 Jun 14 18:01 Lab1.InstallTerraform.ipynb\n",
      "-rw-rw-r--  1 student student  60706 Jun 14 18:02 README.ipynb\n",
      "-rw-rw-r--  1 student student  44852 Jun 14 18:01 README.ipynb.filtered.LineWrapped.ipynb\n",
      "-rw-rw-r--  1 student student 346855 Jun 14 18:01 README.ipynb.filtered.html\n",
      "-rw-rw-r--  1 student student  36213 Jun 14 18:01 README.ipynb.filtered.ipynb.bak\n",
      "-rw-rw-r--  1 student student  23907 Jun 14 18:01 README.ipynb.filtered.md.bak\n",
      "-rw-rw-r--  1 student student  23884 Jun 14 18:01 README.md\n",
      "-rw-rw-r--  1 student student  29777 Jun 14 18:02 README.sh\n",
      "-rw-r--r--  1 student student  34052 Mar 10 13:02 TEST_NOTEBOOK.ipynb\n",
      "-rw-r--r--  1 student student 543033 Mar 10 13:02 tf_download.png\n"
     ]
    }
   ],
   "source": [
    "source ~/.jup.bashrc\n",
    "echo STUDENT=$STUDENT\n",
    "pwd\n",
    "ls -al"
   ]
  },
  {
   "cell_type": "markdown",
   "id": "d5fb01f5-56a1-4cb0-b6c9-953adc08bc64",
   "metadata": {},
   "source": [
    "<div class=\"alert alert-info\"> <b>TODO</b>  - tell to use \"terraform -install-autocomplete; source ~/.bashrc </div>"
   ]
  },
  {
   "cell_type": "code",
   "execution_count": 2,
   "id": "1548e8ea-92b0-478a-831e-9313f4c1a579",
   "metadata": {},
   "outputs": [
    {
     "name": "stdout",
     "output_type": "stream",
     "text": [
      "ii  jq                              1.7.1-3build1                           amd64        lightweight and flexible command-line JSON processor\n",
      "ii  libjq1:amd64                    1.7.1-3build1                           amd64        lightweight and flexible command-line JSON processor - shared library\n",
      "ii  libjs-jquery                    3.6.1+dfsg+~3.5.14-1                    all          JavaScript library for dynamic web applications\n"
     ]
    }
   ],
   "source": [
    "dpkg -l | grep jq || sudo apt-get install -y jq"
   ]
  },
  {
   "cell_type": "code",
   "execution_count": 3,
   "id": "22bba49f",
   "metadata": {
    "tags": []
   },
   "outputs": [
    {
     "name": "stdout",
     "output_type": "stream",
     "text": [
      "setting NB_DIR=/home/student/src/mjbright.labs-private/ServeUpLabs/content/tf-gen/1.InstallTerraform\n",
      "STUDENT='student'\n",
      "[/home/student/scripts/nbtool.rc] Got args '10 Terraform Lab1.InstallTerraform'\n",
      "LAB_IPYNB=README.ipynb\n",
      "LAB_MODE=Terraform\n",
      "LAB_NAME=Lab1.InstallTerraform\n",
      "LAB_TAG=1.InstallTerraform\n",
      "LAB_WEIGHT=10\n",
      "==== Reading nbtool functions from '/home/student/scripts/nbtool.fn' ====\n",
      "==== sudo apt-get install -y jq\n",
      "\n",
      "**** Fri Jun 14 18:05:49 UTC 2024: Notebook initialized on proxmox-azure tf-az-intro\n",
      "\n",
      "Setting NB_DIR=/home/student/src/mjbright.labs-private/ServeUpLabs/content/tf-gen/1.InstallTerraform\n",
      "\u001b[01;31m\u001b[KNB_DIR=/home/student/src/mjbright.labs-private/ServeUpLabs/content/tf-gen/1.InstallTerraform\u001b[m\u001b[K\n",
      "-- source /home/student/src/mjbright.nbtools/scripts/nbtool.tf.fn\n",
      "\n",
      "==== Setting TF_DATA_DIR ====\n",
      "TF_DATA_DIR\u001b[01;31m\u001b[K=/home/student/dot.terraform\u001b[m\u001b[K\n",
      "\n",
      "==== No AWS vars ( ~/.aws/linked/student20.rc )\n",
      "\n",
      "==== No AZURE vars ( ~/.student.rc )\n",
      "\n",
      "======== Terraform Lab \u001b[01;31m\u001b[Kweight[10] / tag[1.InstallTerraform] / name[Lab1.InstallTerraform] ========\u001b[m\u001b[K\n",
      "NB_DIR=/home/student/src/mjbright.labs-private/ServeUpLabs/content/tf-gen/1.InstallTerraform\n",
      "NB=/home/student/src/mjbright.labs-private/ServeUpLabs/content/tf-gen/1.InstallTerraform/README.ipynb\n",
      "NB_DIR=/home/student/src/mjbright.labs-private/ServeUpLabs/content/tf-gen/1.InstallTerraform\n",
      "NB_DIR='/home/student/src/mjbright.labs-private/ServeUpLabs/content/tf-gen/1.InstallTerraform'\n",
      "\n",
      "======== Filtering current notebook [README.ipynb] ========\n",
      "**** Fri Jun 14 18:05:49 UTC 2024: Notebook filtered on proxmox-azure tf-az-intro\n",
      "\n",
      "-- source ~/scripts/nbtool.fn\n",
      "/home/student/.venv/TRAINING/bin/python3\n",
      "\n",
      "======== FILTERING NOTEBOOK ====================================================\n",
      "\n",
      "-- ~/.venv/TRAINING/bin/python3 ~/scripts/nbtool.py -f README.ipynb\n",
      "/home/student/scripts/nbtool.py:968: SyntaxWarning: invalid escape sequence '\\$'\n",
      "  .replace('\\$__', '$__')\\\n",
      "/home/student/scripts/nbtool.py:969: SyntaxWarning: invalid escape sequence '\\<'\n",
      "  .replace('\\<', '<')\\\n",
      "/home/student/scripts/nbtool.py:970: SyntaxWarning: invalid escape sequence '\\>'\n",
      "  .replace('\\>', '>')\\\n",
      "---- [nbREADME.ipynb] no VARS_SEEN ----\n",
      "i/p nb [README.ipynb] has 0 variables\n",
      "README.ipynb:\n",
      "\t#cells=110\n",
      "SHORT LINE/CODE[9] \"\"\n",
      "empty source_content\n",
      "NEARLY empty source_content '' across 2 lines\n",
      "SHORT LINE/CODE[17] \"1\"\n",
      "NEARLY empty source_content '1' across 2 lines\n",
      "SHORT LINE/CODE[26] \"terraform\"\n",
      "SHORT LINE/CODE[58] \"ls -altr\"\n",
      "SHORT LINE/CODE[66] \"ls -altr\"\n",
      "README.ipynb.filtered.ipynb:\n",
      "\t#cells=82\n",
      "======== FILTERING DONE ========================================================\n",
      "\n",
      "NB_DIR=/home/student/src/mjbright.labs-private/ServeUpLabs/content/tf-gen/1.InstallTerraform\n",
      "NB_DIR='/home/student/src/mjbright.labs-private/ServeUpLabs/content/tf-gen/1.InstallTerraform'\n",
      "-rw-rw-r-- 1 student student 36303 Jun 14 18:05 README.ipynb.filtered.ipynb\n",
      "-rw-rw-r-- 1 student student 36303 Jun 14 18:05 README.ipynb.filtered.ipynb\n",
      "Checking for 'EXCLUDE|FN_EXCL' in filtered notebook\n",
      "Checks specific to TF/K8S:\n",
      "\n",
      "17 VAR defs/usages in i/p file: README.ipynb\n",
      "\n",
      "Good: No VAR defs/usages in o/p file\n",
      "Performing NB_CONVERT\n",
      "NB_DIR=/home/student/src/mjbright.labs-private/ServeUpLabs/content/tf-gen/1.InstallTerraform\n",
      "NB_DIR='/home/student/src/mjbright.labs-private/ServeUpLabs/content/tf-gen/1.InstallTerraform'\n",
      "\n",
      "-- jupyter-nbconvert --to markdown README.ipynb.filtered.ipynb\n",
      "[NbConvertApp] Converting notebook README.ipynb.filtered.ipynb to markdown\n",
      "[NbConvertApp] Writing 23984 bytes to README.ipynb.filtered.md\n",
      "\n",
      "-- jupyter-nbconvert --to html README.ipynb.filtered.ipynb\n",
      "[NbConvertApp] Converting notebook README.ipynb.filtered.ipynb to html\n",
      "[NbConvertApp] Writing 346952 bytes to README.ipynb.filtered.html\n",
      "\n",
      "---- 100 long lines (> 74) in README.md:\n",
      "\n",
      "\u001b[32m-rw-rw-r-- 1 student student 36303 Jun 14 18:05 Lab1.InstallTerraform.ipynb\u001b[0m\n",
      "\u001b[32m-rw-rw-r-- 1 student student 23961 Jun 14 18:05 README.md\u001b[0m\n"
     ]
    }
   ],
   "source": [
    ". ~/scripts/nbtool.rc 10 Terraform \"Lab1.InstallTerraform\""
   ]
  },
  {
   "cell_type": "code",
   "execution_count": 4,
   "id": "1b04af8d-2602-4b31-b7ef-7bd1f9623b90",
   "metadata": {
    "tags": []
   },
   "outputs": [
    {
     "name": "stdout",
     "output_type": "stream",
     "text": [
      "/home/student/src/mjbright.labs-private/ServeUpLabs/content/tf-gen/1.InstallTerraform\n",
      "/home/student/src/mjbright.labs-private/ServeUpLabs/content/tf-gen/1.InstallTerraform\n",
      "NB_DIR=/home/student/src/mjbright.labs-private/ServeUpLabs/content/tf-gen/1.InstallTerraform\n",
      "NB_DIR='/home/student/src/mjbright.labs-private/ServeUpLabs/content/tf-gen/1.InstallTerraform'\n",
      "\u001b[32m-rw-rw-r-- 1 student student 44974 Jun 14 18:05 README.ipynb.filtered.LineWrapped.ipynb\u001b[0m\n",
      "\u001b[32m-rw-rw-r-- 1 student student 23961 Jun 14 18:05 README.md\u001b[0m\n",
      "README.ipynb                  : 110 cells [ 59 code + 51 markdown ]\n",
      "Lab1.InstallTerraform.ipynb   :  82 cells [ 38 code + 44 markdown ]\n",
      "[Notebook filtering/conversion]: Took 4 secs [0h00m04]\n"
     ]
    }
   ],
   "source": [
    "NB_QUIET"
   ]
  },
  {
   "cell_type": "markdown",
   "id": "5345a3cb-3b04-4bbe-87ff-899c9c416ad8",
   "metadata": {},
   "source": [
    "# NOTE ON IMAGES:\n",
    "\n",
    "\n",
    "This works with image placed in ../image relative to notebook i.e. content/azure/images/\n",
    "\n",
    "    ![alt](../images/test.png)\n",
    "\n",
    "How to correct for Hugo and/or mkdocs-material ??\n"
   ]
  },
  {
   "cell_type": "code",
   "execution_count": 5,
   "id": "034b8d6c-485c-4514-b364-b38ba7e21cf9",
   "metadata": {},
   "outputs": [],
   "source": [
    "rm -rf ~/bin/terraform"
   ]
  },
  {
   "cell_type": "markdown",
   "id": "allied-prague",
   "metadata": {},
   "source": [
    "# --INCLUDE--SECTION--"
   ]
  },
  {
   "cell_type": "code",
   "execution_count": 6,
   "id": "cfd83bdd",
   "metadata": {
    "tags": []
   },
   "outputs": [
    {
     "name": "stdout",
     "output_type": "stream",
     "text": [
      "# Notebook initial generation:\n",
      "# - 2024-Jun-14 18h05m:[tf-az-intro] node proxmox-azure[terraform missing]\n"
     ]
    }
   ],
   "source": [
    "NB_LAB_ENV"
   ]
  },
  {
   "cell_type": "markdown",
   "id": "10f6fa63-2142-4cff-a114-ba812175dd1a",
   "metadata": {
    "jp-MarkdownHeadingCollapsed": true,
    "tags": []
   },
   "source": [
    "# Lab1: Terraform Installation & Basic Workflow\n",
    "\n",
    "# Background:\n",
    "\n",
    "In this initial setup we will\n",
    "- connect to the provided VM host (one per student)\n",
    "- on the VM host: download the Terraform binary from the https://terraform.io website.\n",
    "- on the VM host: install the binary "
   ]
  },
  {
   "cell_type": "markdown",
   "id": "8cebee04-2ca3-4d9e-8fee-5230a0c20d9b",
   "metadata": {
    "jp-MarkdownHeadingCollapsed": true,
    "tags": []
   },
   "source": [
    "# 1.1 Provided VM environment\n",
    "\n",
    "Your instructor will provide you with instructions to connect to the provided VM host.\n",
    "\n",
    "**Note:** All commands are to be executed in the provided VM host unless specified otherwise\n",
    "\n",
    "**Note:** You are welcome to install Terraform on your local machine but this may cause lab instructions to fail without modification, e.g. many labs will assume the ability to use Docker as a Terraform Provider\n",
    "\n",
    "**Note:** Stretch goals may involve using Terraform to create cloud resources, e.g. **AWS** or **Azure**.  It is assumed that your own cloud credentials are used for this.  You may prefer to run those labs from your local machine\n",
    "\n",
    "The provided VM host for each student has been pre-provisioned with necessary tools - excluding Terraform itself - for the specific training to be followed\n",
    "\n",
    "<!-- \n",
    "- The Azure ```az``` cli tool\n",
    "- an Azure principle configured for each student\n",
    "- A shared Kubernetes cluster\n",
    "\n",
    "## Use of Kubernetes\n",
    "\n",
    "The Kubernetes cluster is provided as a means to quickly create Terraform resources to practice using Terraform.\n",
    "- This prevents the delay of waiting for Azure resources to be created\n",
    "- This also allows for multi-tenancy so that ```student1``` resources do not interfere with ```student7``` resources etc.\n",
    "\n",
    "If you perform ```kubectl get pods``` as ```student7``` user you will initially see the message\n",
    "```No resources found in student7 namespace.``` indicating that you are operating in and limited to the ```student7``` Kubernetes namespace.\n",
    "\n",
    "-->\n",
    "\n",
    "## Use of Docker\n",
    "\n",
    "Where possible we will use Terraform to manage resources locally within the VM host such as files, key files or Docker containers.\n",
    "\n",
    "This has the advantage that terraform operations will be rapid allowing to focus on Terraform concepts rather than the specific providers"
   ]
  },
  {
   "cell_type": "markdown",
   "id": "9406fac2-d14d-46c4-90b9-cde95d97790b",
   "metadata": {},
   "source": [
    "# 1.2 Installing Terraform\n",
    "\n",
    "<!-- ![](../images/Azure_Lab1_Concepts_2.png) -->"
   ]
  },
  {
   "cell_type": "markdown",
   "id": "6847c328-cb11-462e-a8da-3af6cffa060c",
   "metadata": {},
   "source": [
    "## 1.2.1 Download the Terraform binary\n",
    "\n",
    "Go to [Terraform Downloads]( https://developer.hashicorp.com/terraform/downloads )\n",
    "at https://developer.hashicorp.com/terraform/downloads.\n",
    "\n",
    "**Note:** we can download or install Terraform in various ways for each operating system\n",
    "we will simply download static binaries to the provided *virtual machine*\n",
    "\n",
    "**Note:** We will download the Terraform binary using wget within the provided VM host. To do this <b>right-click</b> on the AMD64 link for Linux, as shown below, and <b>copy the link</b>\n",
    "\n",
    "To run terraform locally on your machine you could ```right-click``` on the appropriate\n",
    "download link, e.g. for a 64-bit Linux client using the highlight link in the below image.\n",
    "\n",
    "\n",
    "<!--\n",
    "    Why doesn't this work any more ?\n",
    "       ![](../../../static/images/terraform_download.png)\n",
    "    This does:\n",
    "       ![](../images/terraform_download.png)\n",
    "    But we'll use html to get a useful border\n",
    "       <img src=\"../images/terraform_download.png\" style=\"border:5px solid black\" />\n",
    "-->\n",
    "\n",
    "![](../images/terraform_download.png)\n",
    "\n",
    "In your VM, use wget to download the zip file containing terraform and then unzip that file"
   ]
  },
  {
   "cell_type": "markdown",
   "id": "c1993f0d-9cb4-4837-b711-66cec7bb78fb",
   "metadata": {
    "tags": []
   },
   "source": [
    "#### Download and install terraform"
   ]
  },
  {
   "cell_type": "code",
   "execution_count": 7,
   "id": "505aa785",
   "metadata": {},
   "outputs": [
    {
     "name": "stdout",
     "output_type": "stream",
     "text": [
      "DOWNLOAD_URL=https://releases.hashicorp.com/terraform/1.8.5/terraform_1.8.5_linux_amd64.zip\n",
      "NB_SET_VAR: [not __A] Correcting var name 'AMD_URL' to '__AMD_URL'\n",
      "export AMD_URL=https://releases.hashicorp.com/terraform/1.8.5/terraform_1.8.5_linux_amd64.zip\n",
      "VAR __AMD_URL='https://releases.hashicorp.com/terraform/1.8.5/terraform_1.8.5_linux_amd64.zip'\n",
      "export __AMD_URL='https://releases.hashicorp.com/terraform/1.8.5/terraform_1.8.5_linux_amd64.zip'\n"
     ]
    }
   ],
   "source": [
    "#EXCLUDE\n",
    "\n",
    "mkdir -p ~/tmp/\n",
    "\n",
    "#DOWNLOAD_URL=$( \n",
    "#    wget -qO - https://www.terraform.io/downloads.html |\n",
    "#        grep \"releases.hashicorp.com/terraform/\" | \n",
    "#        sed -e 's/.*\"\\([^\"]*linux_amd64.zip\\)\".*/\\1/'\n",
    "#        )\n",
    "\n",
    "REL=1.8.5\n",
    "# Assume Linux running under multipass/Mac/Aarch64:\n",
    "ARM_URL=https://releases.hashicorp.com/terraform/${REL}/terraform_${REL}_linux_arm64.zip\n",
    "\n",
    "# Assume Linux VM running Amd64:\n",
    "AMD_URL=https://releases.hashicorp.com/terraform/${REL}/terraform_${REL}_linux_amd64.zip\n",
    "\n",
    "case $( uname -m ) in\n",
    "  arm64|aarch64)  DOWNLOAD_URL=$ARM_URL ;;\n",
    "   x86_64|amd64)  DOWNLOAD_URL=$AMD_URL ;;\n",
    "              *)  echo NO SUCH ARCH; exit 1;;\n",
    "esac\n",
    "\n",
    "echo DOWNLOAD_URL=$DOWNLOAD_URL\n",
    "\n",
    "rm -rf ~/tmp/terraform* ~/bin/terraform 2>/dev/null\n",
    "#ls -altr ~/tmp/ ~/bin/\n",
    "\n",
    "NB_SET_VAR AMD_URL $AMD_URL\n",
    "__RETURN"
   ]
  },
  {
   "cell_type": "code",
   "execution_count": 8,
   "id": "e02ab6f7-a0dd-4a55-bf99-9e6788914cc7",
   "metadata": {
    "tags": []
   },
   "outputs": [
    {
     "name": "stdout",
     "output_type": "stream",
     "text": [
      "Archive:  /home/student/tmp/terraform.zip\n",
      "  inflating: terraform               \n"
     ]
    }
   ],
   "source": [
    "mkdir -p ~/bin ~/tmp\n",
    "\n",
    "NB_EXEC wget -qO ~/tmp/terraform.zip $DOWNLOAD_URL\n",
    "\n",
    "URL=$__AMD_URL\n",
    "NB_NO_EXEC wget -qO ~/tmp/terraform.zip $URL\n",
    "\n",
    "unzip ~/tmp/terraform.zip terraform\n",
    "mv terraform ~/bin"
   ]
  },
  {
   "cell_type": "code",
   "execution_count": 9,
   "id": "abefa571-8f95-46c3-9b27-a77a31f4cd36",
   "metadata": {},
   "outputs": [
    {
     "name": "stdout",
     "output_type": "stream",
     "text": [
      "1: command not found\n"
     ]
    },
    {
     "ename": "",
     "evalue": "127",
     "output_type": "error",
     "traceback": []
    }
   ],
   "source": [
    "1"
   ]
  },
  {
   "cell_type": "code",
   "execution_count": 10,
   "id": "f0de4414-7a50-42c6-baa6-ad7e9467739c",
   "metadata": {},
   "outputs": [
    {
     "name": "stdout",
     "output_type": "stream",
     "text": [
      "/home/student/src/mjbright.labs-private/ServeUpLabs/content/tf-gen/1.InstallTerraform\n",
      "/home/student/src/mjbright.labs-private/ServeUpLabs/content/tf-gen/1.InstallTerraform\n",
      "NB_DIR=/home/student/src/mjbright.labs-private/ServeUpLabs/content/tf-gen/1.InstallTerraform\n",
      "NB_DIR='/home/student/src/mjbright.labs-private/ServeUpLabs/content/tf-gen/1.InstallTerraform'\n",
      "\u001b[32m-rw-rw-r-- 1 student student 44974 Jun 14 18:06 README.ipynb.filtered.LineWrapped.ipynb\u001b[0m\n",
      "\u001b[32m-rw-rw-r-- 1 student student 23961 Jun 14 18:06 README.md\u001b[0m\n",
      "README.ipynb                  : 110 cells [ 59 code + 51 markdown ]\n",
      "Lab1.InstallTerraform.ipynb   :  82 cells [ 38 code + 44 markdown ]\n",
      "[Notebook filtering/conversion]: Took 4 secs [0h00m04]\n",
      "exit\n",
      "Restarting Bash\n"
     ]
    }
   ],
   "source": [
    "#EXCLUDE\n",
    "NB_QUIET\n",
    "exit 1"
   ]
  },
  {
   "cell_type": "markdown",
   "id": "union-anthony",
   "metadata": {},
   "source": [
    "## 1.2.2 Check Terraform Version\n",
    "\n",
    "Put ~/bin in your shell PATH as follows:\n",
    "\n",
    "```\n",
    " # Update ~/.bashrc with updated PATH:\n",
    " echo 'export PATH=~/bin:$PATH' >> ~/.bashrc\n",
    "\n",
    " # Re-read ~/.bashrc to set PATH in current shell:\n",
    " source ~/.bashrc\n",
    "```"
   ]
  },
  {
   "cell_type": "markdown",
   "id": "a6d48992-b3b5-4d7c-ad0f-fa259bf62705",
   "metadata": {},
   "source": [
    "Check the terraform path and version, you should see output similar to:"
   ]
  },
  {
   "cell_type": "code",
   "execution_count": null,
   "id": "5e184821-b3c0-4f34-b17b-9169a70a4151",
   "metadata": {
    "tags": []
   },
   "outputs": [],
   "source": [
    "#EXCLUDE\n",
    "#EXEC which terraform | sed 's/student/student20/'\n",
    "#NO_EXEC which terraform \n",
    "export PATH=~/bin:$PATH\n",
    "echo 'export PATH=~/bin:$PATH' >> ~/.jup.bashrc\n",
    ". ~/.jup.bashrc"
   ]
  },
  {
   "cell_type": "code",
   "execution_count": null,
   "id": "7e3455e5-f1c8-4f16-b362-c74ca455ce79",
   "metadata": {
    "tags": []
   },
   "outputs": [],
   "source": [
    "which terraform"
   ]
  },
  {
   "cell_type": "code",
   "execution_count": null,
   "id": "9327ef3e-6f9e-4fff-b0b0-c9b8c52f2550",
   "metadata": {
    "tags": []
   },
   "outputs": [],
   "source": [
    "NB_EXEC terraform version | sed 's/arm64/amd64/'\n",
    "NB_NO_EXEC terraform version"
   ]
  },
  {
   "cell_type": "markdown",
   "id": "marine-prevention",
   "metadata": {},
   "source": [
    "Log out and then log in again and make sure that the ```terraform version```\n",
    "command still produces the same result."
   ]
  },
  {
   "cell_type": "markdown",
   "id": "athletic-governor",
   "metadata": {},
   "source": [
    "# 1.3 Terraform sub-commands\n",
    "\n",
    "Type ```terraform``` to see the Terraform sub-commands available"
   ]
  },
  {
   "cell_type": "code",
   "execution_count": null,
   "id": "appropriate-tragedy",
   "metadata": {},
   "outputs": [],
   "source": [
    "terraform\n",
    "__RETURN 0"
   ]
  },
  {
   "cell_type": "markdown",
   "id": "caroline-jefferson",
   "metadata": {},
   "source": [
    "Investigate this list of sub-commands\n",
    "\n",
    "## 1.3.1 Information about sub-commands\n",
    "\n",
    "#### Look for cli help for a sub-command\n",
    "\n",
    "You can get help from the command-line tool using ```terraform <sub-command> --help```\n",
    "e.g. ```terraform apply --help```\n",
    "\n",
    "#### Look for online help for a sub-command\n",
    "\n",
    "Browse to the ```Terraform Documentation``` site and look at the ```Commands``` section:\n",
    "\n",
    "https://www.terraform.io/docs/commands/index.html\n",
    "\n",
    "Look there for specific sub-commands, e.g. for ```terraform apply```\n",
    "https://www.terraform.io/docs/commands/apply.html\n",
    "\n",
    "## 1.3.2 The Terraform CHANGELOG\n",
    "\n",
    "Open a browser at https://github.com/hashicorp/terraform/blob/master/CHANGELOG.md\n",
    "\n",
    "Look at the changes introduced in Terraform 1.0 through Terraform 1.5\n"
   ]
  },
  {
   "cell_type": "markdown",
   "id": "desperate-cutting",
   "metadata": {},
   "source": [
    "# 1.4 Starting very small ...\n",
    "\n",
    "We will first of all create some quite minimalist Terraform configurations\n",
    "\n",
    "1. Make a new directory ~/labs/lab1.\n",
    "2. Change to that directory"
   ]
  },
  {
   "cell_type": "code",
   "execution_count": null,
   "id": "b3ab9d3c-f08f-4def-bbc3-f6e7c3ef79f1",
   "metadata": {},
   "outputs": [],
   "source": [
    "#EXCLUDE\n",
    "\n",
    "mkdir -p ~/labs.old\n",
    "[ -d ~/labs/lab1 ] && mv ~/labs/lab1 ~/labs.old/\n",
    "\n",
    "rm -rf ~/labs/lab1/* ~/labs/lab1/.terraform.lock.hcl\n",
    "\n",
    "__RETURN"
   ]
  },
  {
   "cell_type": "code",
   "execution_count": null,
   "id": "virtual-provider",
   "metadata": {
    "attributes": {
     "classes": [
      "hcl"
     ],
     "id": ""
    }
   },
   "outputs": [],
   "source": [
    "mkdir -p ~/labs/lab1\n",
    "cd       ~/labs/lab1"
   ]
  },
  {
   "cell_type": "code",
   "execution_count": null,
   "id": "cd83d447",
   "metadata": {
    "attributes": {
     "classes": [
      "hcl"
     ],
     "id": ""
    }
   },
   "outputs": [],
   "source": [
    "#EXCLUDE\n",
    "\n",
    "cat > main.tf <<EOF\n",
    "\n",
    "EOF"
   ]
  },
  {
   "cell_type": "markdown",
   "id": "a12284eb",
   "metadata": {},
   "source": [
    "Now that we have Terraform installed let's build up some minimalist configurations\n",
    "to discover the structure of a Terraform configuration.\n",
    "\n",
    "In this step we won't yet create any resource, but we will see how we can interact with a Provider.\n",
    "\n",
    "## 1.4.1 very small config - no provider\n",
    "\n",
    "We will create a very small Terraform config where we don't even use a Provider\n",
    "\n",
    "#### create the main.tf file\n",
    "\n",
    "create an empty file main.tf\n",
    "\n",
    "```\n",
    "touch main.tf\n",
    "```\n",
    "\n",
    "This is the absolute minimum configuration possible with no Provider or Resources.\n",
    "\n",
    "#### try a 'terraform plan'\n",
    "\n",
    "Run the command ```terraform plan``` or ```terraform apply``` with this configuration.\n"
   ]
  },
  {
   "cell_type": "code",
   "execution_count": null,
   "id": "accredited-charleston",
   "metadata": {},
   "outputs": [],
   "source": [
    "TF_PLAN"
   ]
  },
  {
   "cell_type": "markdown",
   "id": "4b176d1b-70df-4cbf-b547-0e717bb30df1",
   "metadata": {},
   "source": [
    "## 1.4.2 simple variable definition - no provider\n",
    "\n",
    "### add a variable definition\n",
    "\n",
    "Now edit your main.tf and add the following lines at the end of the file:\n",
    "\n",
    "```\n",
    "variable test {\n",
    "}\n",
    "```\n",
    "\n",
    "### terraform plan - prompting for a value\n",
    "\n",
    "Re-run the ```terraform plan``` command.\n",
    "\n",
    "Note that Terraform will now prompt you to provide a value for the test variable as\n",
    "we did not assign anything.\n",
    "\n",
    "```\n",
    "terraform plan\n",
    "var.test\n",
    "  Enter a value:\n",
    "```\n",
    "\n",
    "Enter any string at the prompt and see that the plan succeeds, you should see output similar to:\n",
    "```\n",
    "terraform plan\n",
    "var.test\n",
    "  Enter a value: any old value\n",
    "\n",
    "\n",
    "No changes. Your infrastructure matches the configuration.\n",
    "\n",
    "Terraform has compared your real infrastructure against your configuration and found no differences, so no changes are needed.\n",
    "```"
   ]
  },
  {
   "cell_type": "markdown",
   "id": "746a376b-1715-4541-b97e-570d6374db30",
   "metadata": {},
   "source": [
    "### terraform apply - prompting for a value\n",
    "\n",
    "Try running ```terraform apply``` and you will be prompted again to enter a value.\n",
    "\n",
    "Example input/output:\n",
    "```\n",
    "terraform apply\n",
    "var.test\n",
    "  Enter a value: another arbitrary value\n",
    "\n",
    "\n",
    "No changes. Your infrastructure matches the configuration.\n",
    "\n",
    "Terraform has compared your real infrastructure against your configuration and found no differences, so no changes are needed.\n",
    "\n",
    "Apply complete! Resources: 0 added, 0 changed, 0 destroyed.\n",
    "```\n",
    "\n",
    "For the moment we are only setting variables and not actually managing any resources so terraform simply tells that no changes are made: ```Apply complete! Resources: 0 added, 0 changed, 0 destroyed.```\n",
    "\n",
    "If we had created, deleted or modified resources, then Terraform woud have prompted us enter \"*yes*\" to apply the config changes."
   ]
  },
  {
   "cell_type": "markdown",
   "id": "95915344-dbaf-4b08-b3e1-7d4d649dc30c",
   "metadata": {},
   "source": [
    "### add a variable default value\n",
    "\n",
    "Let's now define a default value for the variable to prevent these prompts.\n",
    "\n",
    "Modify the variable definition to look like the following text, then re-run the ```terraform plan``` and ```terraform apply``` commands"
   ]
  },
  {
   "cell_type": "code",
   "execution_count": null,
   "id": "1b0db296-cc4b-4935-a2ef-9ea8b06f2aa7",
   "metadata": {},
   "outputs": [],
   "source": [
    "NB_FILE main.tf <<EOF\n",
    "variable test {\n",
    "    description =   \"It is good practice to add a description\"\n",
    "    default     =   \"a test value\"\n",
    "}\n",
    "EOF"
   ]
  },
  {
   "cell_type": "code",
   "execution_count": null,
   "id": "1c26515d-5527-436f-9974-943c2bd5967f",
   "metadata": {},
   "outputs": [],
   "source": [
    "TF_PLAN"
   ]
  },
  {
   "cell_type": "code",
   "execution_count": null,
   "id": "4e169a9f-730b-45bb-a152-5f10eabf0ece",
   "metadata": {},
   "outputs": [],
   "source": [
    "TF_APPLY"
   ]
  },
  {
   "cell_type": "markdown",
   "id": "60236547-b898-490f-8937-9a9d6bd0abcb",
   "metadata": {},
   "source": [
    "### add an output definition\n",
    "\n",
    "We will now add some output definitions to our config.\n",
    "\n",
    "Terraform uses ```outputs``` to report information about the current state of resources or variables.\n"
   ]
  },
  {
   "cell_type": "code",
   "execution_count": null,
   "id": "c4d6f414-502f-4717-b4e7-aa30d10c5887",
   "metadata": {},
   "outputs": [],
   "source": [
    "NB_FILE main.tf <<\"EOF\"\n",
    "variable test {\n",
    "    description =   \"It is good practice to add a description\"\n",
    "    default     =   \"a test value\"\n",
    "}\n",
    "\n",
    "output op_test  { value = var.test }\n",
    "output op_test2 { value = \"The same variable '${var.test}' using string interpolation\" } \n",
    "\n",
    "EOF"
   ]
  },
  {
   "cell_type": "markdown",
   "id": "8bede1ab-9747-4767-be14-86fcab620d33",
   "metadata": {},
   "source": [
    "Rerun the ```terraform plan``` and ```terraform apply```"
   ]
  },
  {
   "cell_type": "code",
   "execution_count": null,
   "id": "cb56b151-0a33-4bfe-92a2-2968a0bd1899",
   "metadata": {},
   "outputs": [],
   "source": [
    "TF_PLAN"
   ]
  },
  {
   "cell_type": "code",
   "execution_count": null,
   "id": "f618f534-41c8-41ff-af18-68cea26cd42d",
   "metadata": {},
   "outputs": [],
   "source": [
    "TF_APPLY"
   ]
  },
  {
   "cell_type": "markdown",
   "id": "0279a943-4427-4a24-bf4c-bad1701ebccb",
   "metadata": {},
   "source": [
    "\n",
    "Note the output information in the above ```plan``` and ```apply``` output\n",
    "\n",
    "### terraform output\n",
    "\n",
    "Note that once a configuration has been applied we display the output values using the ```terraform output``` sub-command.\n",
    "\n",
    "This command extracts the information stored in the ```terraform.tfstate``` file updated during the ```terraform apply``` operation.\n",
    "\n",
    "The output command is very useful allowing to display information about created resources - such as a virtual machine ip address -  which is generally not known before performing an apply."
   ]
  },
  {
   "cell_type": "code",
   "execution_count": null,
   "id": "9c87906e-93a9-4750-8f4e-947e9c9f9d31",
   "metadata": {},
   "outputs": [],
   "source": [
    "terraform output"
   ]
  },
  {
   "cell_type": "markdown",
   "id": "committed-operations",
   "metadata": {},
   "source": [
    "# 1.5 Terraform Workflow: Creating a first resource\n",
    "\n",
    "<!--  ![](../../../static/images/TF-Azure_Labs_png/Lab1_Solutions.png) -->\n",
    "\n",
    "So far we have seen the most minimal configs, but they were of course useless as we created no resources !\n",
    "\n",
    "Now let's create our first resource.\n",
    "\n",
    "We will use the ```local``` provider which allows to create local files - this may not seem like a particularly interesting feature, indeed alone it is not, but\n",
    "- it will allow to create some initial very simple resources\n",
    "- it is actually a very useful feature often used when creating \"real\" resources to save\n",
    "   - generated keys and certificates\n",
    "   - generated configuration files, e.g. ```ssh_config``` or ```ansible inventory``` files\n"
   ]
  },
  {
   "cell_type": "markdown",
   "id": "3279c5c6-5fc5-4192-8ec0-5d94736b0ff1",
   "metadata": {},
   "source": [
    "## local_file resource\n",
    "\n",
    "The ```local_file``` resource alows to manage the lifecycle, i.e. create, modify, delete, a local file using Terraform.\n",
    "\n",
    "A simple example is as follows, creating a file at the specifed file path relative to our configuration code (the current module) with the provided content:\n",
    "\n",
    "```\n",
    "resource \"local_file\" \"test_file\" {\n",
    "  content  = \"file content\\nline2\"\n",
    "  filename = \"${path.module}/test.file.txt\"\n",
    "}\n",
    "```\n"
   ]
  },
  {
   "cell_type": "markdown",
   "id": "c8c6a74e-9747-4fcc-b9f1-d4e52db16bfd",
   "metadata": {},
   "source": [
    "Let's try first to create a single file using Terraform.\n",
    "\n",
    "- First create a new directory for this experiment\n",
    "- Move to that directory\n",
    "- Create a new main.tf as below\n",
    "- Perform a ```terraform plan```"
   ]
  },
  {
   "cell_type": "code",
   "execution_count": null,
   "id": "cd840760-397c-4350-9797-5c6cabbb3bf0",
   "metadata": {},
   "outputs": [],
   "source": [
    "mkdir -p ~/labs/lab1/1.5\n",
    "cd       ~/labs/lab1/1.5"
   ]
  },
  {
   "cell_type": "code",
   "execution_count": null,
   "id": "9d500296-a394-449e-a62c-26f82c70080b",
   "metadata": {},
   "outputs": [],
   "source": [
    "#EXCLUDE\n",
    "\n",
    "[ ! -f .terraform.lock.hcl ] && terraform init\n",
    "terraform destroy -auto-approve\n",
    "rm .terraform.lock.hcl 2>/dev/null\n",
    "\n",
    "unset TF_DATA_DIR"
   ]
  },
  {
   "cell_type": "code",
   "execution_count": null,
   "id": "ca6d1087",
   "metadata": {
    "tags": []
   },
   "outputs": [],
   "source": [
    "NB_FILE main.tf <<\"EOF\"\n",
    "\n",
    "# Create a file from a simple string value (without a LF/CR at the end)\n",
    "resource \"local_file\" \"basic\" {\n",
    "  content  = \"a simple string\"\n",
    "  filename = \"${path.module}/basic.txt\"\n",
    "}\n",
    "\n",
    "EOF"
   ]
  },
  {
   "cell_type": "markdown",
   "id": "fa319089-0716-4814-bc7a-32b7fa3d4d0f",
   "metadata": {},
   "source": [
    "## 1.5.1 Terraform Workflow: Perform a Terraform plan\n",
    "\n",
    "Try to perform a Terraform plan, but **note that we have a problem ...**"
   ]
  },
  {
   "cell_type": "code",
   "execution_count": null,
   "id": "2f3a581d-f7c4-4fcb-a129-438506057682",
   "metadata": {},
   "outputs": [],
   "source": [
    "TF_PLAN"
   ]
  },
  {
   "cell_type": "markdown",
   "id": "39f0da57-4c4a-4122-a848-6caea74e0240",
   "metadata": {},
   "source": [
    "## 1.5.2 Terraform Workflow: Terraform Init\n",
    "\n",
    "In fact because we are using a Provider now - the ```local``` Provider - we need to first initialize this configuration\n",
    "\n",
    "- First let's list the files in the current directory\n",
    "- then perform the terraform init\n",
    "- list the files again"
   ]
  },
  {
   "cell_type": "code",
   "execution_count": null,
   "id": "ff3837c6-f0d8-49bb-b0e2-0fb0311a739d",
   "metadata": {},
   "outputs": [],
   "source": [
    "# List *all* files, include dotfiles, in long format with the newest files last\n",
    "ls -altr"
   ]
  },
  {
   "cell_type": "code",
   "execution_count": null,
   "id": "2bd93ac9-79fe-4c1c-837f-828b212ab708",
   "metadata": {},
   "outputs": [],
   "source": [
    "TF_INIT"
   ]
  },
  {
   "cell_type": "code",
   "execution_count": null,
   "id": "3613ad47-2fd9-431b-ba0a-ddb37f70374d",
   "metadata": {},
   "outputs": [],
   "source": [
    "ls -altr"
   ]
  },
  {
   "cell_type": "markdown",
   "id": "645a59d9-8b01-4c2e-8a11-70aa74e6b601",
   "metadata": {},
   "source": [
    "Note that performing the ```terraform init``` had 2 effects\n",
    "- Creating a local directory ```.terraform```\n",
    "- Created a lock file detailing the Providers being used by Terraform\n",
    "\n",
    "The ```.terraform``` directory contains the ```Provider plugin``` for the ```local``` Provider we're planning to use.\n",
    "We can see below that it is about 13 Megabytes in size\n",
    "\n",
    "The ```.terraform.lock.hcl``` contains identifying information for the version of the Provider we're using.  If multiple Providers are used in our configuration they are detailed here"
   ]
  },
  {
   "cell_type": "code",
   "execution_count": null,
   "id": "7a51c34b-3ae0-4abe-ba5f-666215c2d1e4",
   "metadata": {},
   "outputs": [],
   "source": [
    "find ./.terraform -type f"
   ]
  },
  {
   "cell_type": "code",
   "execution_count": null,
   "id": "b7afaf58-a29b-4920-bc8a-7ea009933e7b",
   "metadata": {},
   "outputs": [],
   "source": [
    "ls -alh $( find ./.terraform -type f )"
   ]
  },
  {
   "cell_type": "code",
   "execution_count": null,
   "id": "1ad7fb61-7783-407d-93df-d9310ce4ee6a",
   "metadata": {},
   "outputs": [],
   "source": [
    "cat .terraform.lock.hcl"
   ]
  },
  {
   "cell_type": "markdown",
   "id": "e6587b86-25cd-447e-bd52-67beb89981bb",
   "metadata": {},
   "source": [
    "## 1.5.3 Terraform Workflow: Terraform Apply\n",
    "\n",
    "Now let's perform the ```terraform apply``` and note that the file is created.\n",
    "\n",
    "Note: we will be prompted to accept the change, i.e. the creation of a local_file resource - type ```yes``` to accept"
   ]
  },
  {
   "cell_type": "code",
   "execution_count": null,
   "id": "ffc4fe0e-ad1c-41c0-960b-ea4316b6f673",
   "metadata": {},
   "outputs": [],
   "source": [
    "TF_APPLY"
   ]
  },
  {
   "cell_type": "markdown",
   "id": "c63cb7e3-4f2c-442e-82dc-e9688d1e74fd",
   "metadata": {},
   "source": [
    "## 1.5.4 Post-apply\n",
    "\n",
    "Now that the apply has been performed we see that\n",
    "- the basic.txt file has been created, with the appropriate content\n",
    "- A ```terraform.tfstate``` file has been created representing the state of our configuration\n",
    "\n",
    "The ```terraform.tfstate``` file contains a ```json``` representation of the state"
   ]
  },
  {
   "cell_type": "code",
   "execution_count": null,
   "id": "7403ab95-1052-4273-89ba-3c65775f9b16",
   "metadata": {},
   "outputs": [],
   "source": [
    "ls -altr"
   ]
  },
  {
   "cell_type": "code",
   "execution_count": null,
   "id": "354983c8-4858-442e-ad93-bc562f64ac7e",
   "metadata": {},
   "outputs": [],
   "source": [
    "cat basic.txt"
   ]
  },
  {
   "cell_type": "markdown",
   "id": "d602d999-7d83-4c27-ac48-b0a16ed1e506",
   "metadata": {},
   "source": [
    "## 1.5.5 Specifying the Provider\n",
    "\n",
    "In this example, the fact that we create a resource of type ```local_file``` signals that we are using the ```local``` Provider\n",
    "\n",
    "In general we would need to explicitly declare the Provider being used.\n",
    "\n",
    "In the simplest form we could include the text\n",
    "```\n",
    "provider local {\n",
    "}\n",
    "```\n",
    "\n",
    "This text could be included in the ```main.tf``` file for example, or indeed and ```.tf``` file\n",
    "\n",
    "A common practice would be to place that text in a file called ```provider.tf``` or similar.\n",
    "\n",
    "If you create a ```provider.tf``` file with the above content, then apply the configuration, no configuration changes would be performed.\n",
    "\n",
    "**Note:** The names of ```.tf``` files are arbitrary.  It is common practice to use ```main.tf``` or ```resources.tf``` for the main resources of a configuration but there is no rule.  In an organization you may have best practices for the naming of files and where resources, providers etc are declared.  Be aware that as configurations become more complex then it may be necessary to be more flexible about that naming, e.g. to define resources in files such as ```resources_network.tf```, ```resources_vms.tf``` and so on"
   ]
  },
  {
   "cell_type": "markdown",
   "id": "c8d9f7fb-8129-4f1a-b63a-0761b10779d1",
   "metadata": {},
   "source": [
    "## 1.5.6 [Cleanup] Terraform Workflow: Destroy\n",
    "\n",
    "To complete the lifecycle of our local_file resource we will now perform a ```terraform destroy``` and observe that the file has been deleted.\n",
    "\n",
    "This workflow is not the most exciting Terraform workflow but is intended as a start to show a basic resource creation"
   ]
  },
  {
   "cell_type": "code",
   "execution_count": null,
   "id": "ae2c192c-6690-441d-81ee-5928d5d692ff",
   "metadata": {},
   "outputs": [],
   "source": [
    "ls -altr basic.txt"
   ]
  },
  {
   "cell_type": "code",
   "execution_count": null,
   "id": "0692e724-8a6f-4b10-b911-ab19f11dd7e7",
   "metadata": {},
   "outputs": [],
   "source": [
    "TF_DESTROY"
   ]
  },
  {
   "cell_type": "code",
   "execution_count": null,
   "id": "edba84d8-5aeb-46dd-970c-b5e20385d099",
   "metadata": {},
   "outputs": [],
   "source": [
    "ls -altr basic.txt\n",
    "__RETURN"
   ]
  },
  {
   "cell_type": "markdown",
   "id": "10ad290d-01ee-4fb2-aaa5-f3558dcc702f",
   "metadata": {},
   "source": [
    "Note that our ```basic.txt``` file was deleted"
   ]
  },
  {
   "cell_type": "markdown",
   "id": "a0413467-7f4a-4504-afad-dd0663c3b518",
   "metadata": {},
   "source": [
    "# 1.6 More files ...\n",
    "\n",
    "Let's experiment creating various files providing the content as strings provided in different ways"
   ]
  },
  {
   "cell_type": "code",
   "execution_count": null,
   "id": "b04061da-2ca0-4ab5-bf22-3b786ca99ab4",
   "metadata": {
    "tags": []
   },
   "outputs": [],
   "source": [
    "NB_FILE main.tf <<\"EOF\"\n",
    "\n",
    "variable test {\n",
    "    default = \"a test string\"\n",
    "}\n",
    "\n",
    "# Create a file from a simple string value (without a LF/CR at the end)\n",
    "#\n",
    "resource \"local_file\" \"basic\" {\n",
    "  content  = \"a simple string\"\n",
    "  filename = \"${path.module}/basic.txt\"\n",
    "}\n",
    "\n",
    "# Create a file from a multi-line string value (with embedded '\\n' line feeds)\n",
    "#\n",
    "resource \"local_file\" \"basic-mline\" {\n",
    "  content  = \"a simple string\\nOn multiple lines\\n\"\n",
    "  filename = \"${path.module}/basic-mline.txt\"\n",
    "}\n",
    "\n",
    "# Create a file from a multi-line string specified as a \"HERE\" document\n",
    "#\n",
    "# Note: use of the \"<<\" operator:\n",
    "#\n",
    "resource \"local_file\" \"basic-mline-here\" {\n",
    "  content  = <<EOF\n",
    "     A text block\n",
    "     The value of var.test='\\${ var.test }'\n",
    "  EOF\n",
    "  filename = \"${path.module}/basic-mline-here.txt\"\n",
    "}\n",
    "\n",
    "# Create a file from a multi-line string specified as a \"HERE\" document:\n",
    "#\n",
    "# Note: use of the \"<<-\" operator, causing leading indentation to be ignored:\n",
    "#\n",
    "resource \"local_file\" \"basic-mline-here-aligned\" {\n",
    "  content  = <<-EOF\n",
    "     A text block\n",
    "     The value of var.test='\\${ var.test }'\n",
    "  EOF\n",
    "  filename = \"${path.module}/basic-mline-here-aligned.txt\"\n",
    "}\n",
    "\n",
    "EOF"
   ]
  },
  {
   "cell_type": "code",
   "execution_count": null,
   "id": "6c31a3c6-4bdc-4943-93d4-9cd6ac5744d1",
   "metadata": {},
   "outputs": [],
   "source": [
    "TF_APPLY"
   ]
  },
  {
   "cell_type": "code",
   "execution_count": null,
   "id": "533178a4-26be-48f6-a680-239b167544af",
   "metadata": {},
   "outputs": [],
   "source": [
    "ls -altr *.txt"
   ]
  },
  {
   "cell_type": "markdown",
   "id": "2c0e8def-8db4-4ac3-9474-c07961bc315a",
   "metadata": {},
   "source": [
    "#### Examine the content of the created files:"
   ]
  },
  {
   "cell_type": "code",
   "execution_count": null,
   "id": "61c5920b-6d50-4e87-8b69-7925b7e2b008",
   "metadata": {
    "lines_to_next_cell": 2
   },
   "outputs": [],
   "source": [
    "for FILE in *.txt\n",
    "do\n",
    "    echo -e \"\\n\\n---- ${FILE}:\"\n",
    "    cat $FILE\n",
    "done"
   ]
  },
  {
   "cell_type": "markdown",
   "id": "124209a0-c036-4d46-bcbb-d56e319a8439",
   "metadata": {},
   "source": [
    "#### String specifications\n",
    "\n",
    "Observe in the previous example how we could specify a string, which we use here as the file content, as either\n",
    "- a simple string\n",
    "- a multi-line string  (string in quotes with embedded CR/LF characters)\n",
    "- a multi-line string as a \"HERE\" document\n",
    "- a multi-line string as a \"HERE\" document where the indentation is ignored (useful to have readable code)"
   ]
  },
  {
   "cell_type": "markdown",
   "id": "350ae3be-0fc0-4e4e-bd71-fa67752491ba",
   "metadata": {},
   "source": [
    "### Inspecting the state\n",
    "\n",
    "We can obtain a list of resources contained in the state using the ```terraform state list``` command\n",
    "\n",
    "We can then inspect individual resources using the ```terraform state show``` command"
   ]
  },
  {
   "cell_type": "code",
   "execution_count": null,
   "id": "b65f6141-1e33-48d2-93f4-0e9903268944",
   "metadata": {},
   "outputs": [],
   "source": [
    "terraform state list"
   ]
  },
  {
   "cell_type": "code",
   "execution_count": null,
   "id": "a0ef9df2-0947-4933-b87e-39842ad136fe",
   "metadata": {},
   "outputs": [],
   "source": [
    "terraform state show local_file.basic-mline"
   ]
  },
  {
   "cell_type": "markdown",
   "id": "e82a560e-642a-49e1-be86-e8bafd8453c6",
   "metadata": {},
   "source": [
    "# 1.7 Experiment\n",
    "\n",
    "Now experiment with this configuration\n",
    "- try manually modifying a file, then re-running ```terraform apply```.  What happens?\n",
    "- try manually removing a file, then re-running ```terraform apply```  What happens?\n",
    "- look at the ```terraform.tfstate``` and ```terraform.tfstate.backup``` files\n",
    "- manually delete the ```terraform.tfstate``` file, then re-apply the config.  Can you explain what happens?"
   ]
  },
  {
   "cell_type": "markdown",
   "id": "72d2b81d-0b60-4b73-900d-b4f7c29eef94",
   "metadata": {},
   "source": [
    "# 1.8 Setting TF_DATA_DIR\n",
    "\n",
    "### Disk space consumed by the .terraform directory\n",
    "\n",
    "We saw earlier that when we perform the ```terraform init``` commmand a local directory ```.terraform``` was created into which the appropriate Provider is downloaded.\n",
    "\n",
    "So far we used the ```local``` Provider which is relatively small ~ 13 MBytes.\n",
    "\n",
    "In practice we'd probably use one of the Cloud Providers such as ```AWS``` or ```Azure``` whose plugins are hundreds of Megabytes in size.\n",
    "\n",
    "If we wish to create many config directories, in our case for lab1, lab2, etc ... then that Provider plugin will get locally downloaded into each directory, totalling Gigabytes of space and maybe much more.\n",
    "\n",
    "### Mutualizing storage space for the Provider Plugins\n",
    "\n",
    "If we set the the **TF_DATA_DIR** environment variable in the current shell to avoid this.\n",
    "\n",
    "This will allow us to share the space where the Provider plugin is stored, for all our configurations.\n",
    "\n",
    "So, we will\n",
    "- set the **TF_DATA_DIR** environment variable in the current shell and also\n",
    "- add this to our ~/.bashrc file so it is used for all new shells\n"
   ]
  },
  {
   "cell_type": "code",
   "execution_count": null,
   "id": "85e630a4-f3fc-4a64-9120-00d5ab22c41a",
   "metadata": {},
   "outputs": [],
   "source": [
    "# Set TF_DATA_DIR to some 'arbitrary' folder for this user, where plugins will be downloaded:\n",
    "export TF_DATA_DIR=~/dot.terraform\n",
    "\n",
    "# Persist this configuration to new shells by appending this line to the ~/.bashrc file:\n",
    "echo 'export TF_DATA_DIR=~/dot.terraform' >> ~/.bashrc"
   ]
  },
  {
   "cell_type": "markdown",
   "id": "f325e2bc-8eb2-4754-9b86-90e7e640ed3c",
   "metadata": {},
   "source": [
    "# 1.9 Cleanup\n",
    "\n",
    "Now destroy the resources managed by this configuration\n",
    "\n",
    "**Note:** We first need to re-perform `terraform init` so that the local provider is downloaded to the new TF_DATA_DIR location else the `terraform destroy` alone would fail"
   ]
  },
  {
   "cell_type": "code",
   "execution_count": null,
   "id": "628cdaa3-3f9e-4815-9507-2e92c99701c0",
   "metadata": {},
   "outputs": [],
   "source": [
    "#EXCLUDE\n",
    "\n",
    "# Shouldn't be needed, but in case of error on destroy:\n",
    "#TF_INIT"
   ]
  },
  {
   "cell_type": "code",
   "execution_count": null,
   "id": "445cf587-bd6d-46a5-9acf-70c1776e2ec6",
   "metadata": {},
   "outputs": [],
   "source": [
    "TF_DESTROY"
   ]
  },
  {
   "cell_type": "code",
   "execution_count": null,
   "id": "fae94dc6-d11b-4094-a363-77eac6f00669",
   "metadata": {},
   "outputs": [],
   "source": [
    "ls -altr *.txt\n",
    "__RETURN"
   ]
  },
  {
   "cell_type": "markdown",
   "id": "15018cb0-f85b-48e2-8d98-8ce614183875",
   "metadata": {},
   "source": [
    "#### All resources have been destroyed\n",
    "\n",
    "Let's now verify this in various ways:"
   ]
  },
  {
   "cell_type": "code",
   "execution_count": null,
   "id": "c69cd212-b324-4961-8ec0-e3708ac0f98c",
   "metadata": {
    "tags": []
   },
   "outputs": [],
   "source": [
    "terraform state list"
   ]
  },
  {
   "cell_type": "markdown",
   "id": "e7859d19-e11e-4158-8f75-74f761c33307",
   "metadata": {},
   "source": [
    "Even the terraform.tfstate file is \"empty\", almost\n",
    "- it actually keeps some metadata"
   ]
  },
  {
   "cell_type": "code",
   "execution_count": null,
   "id": "9364941d-d8d0-42d1-864e-0608cb464c4f",
   "metadata": {
    "tags": []
   },
   "outputs": [],
   "source": [
    "ls -altr terraform.tfstate*"
   ]
  },
  {
   "cell_type": "code",
   "execution_count": null,
   "id": "222189ea-035b-41bf-ac4d-9b3de060c935",
   "metadata": {
    "tags": []
   },
   "outputs": [],
   "source": [
    "cat terraform.tfstate"
   ]
  },
  {
   "attachments": {},
   "cell_type": "markdown",
   "id": "0d071d04-d854-4e8b-8d9f-cf454840c7bd",
   "metadata": {},
   "source": [
    "<hr/>\n",
    "\n",
    "# 1.10 Blog Posts about recent Terraform releases:\n",
    "\n",
    "- https://www.hashicorp.com/blog/announcing-hashicorp-terraform-1-0-general-availability\n",
    "- https://www.hashicorp.com/blog/terraform-1-1-improves-refactoring-and-the-cloud-cli-experience\n",
    "- https://www.hashicorp.com/blog/terraform-1-2-improves-exception-handling-and-updates-to-the-cli-driven-workflow\n",
    "- https://www.hashicorp.com/blog/terraform-1-3-improves-extensibility-and-maintainability-of-terraform-modules\n",
    "- https://www.hashicorp.com/blog/terraform-1-4-improves-the-cli-experience-for-terraform-cloud\n",
    "- https://www.hashicorp.com/blog/terraform-1-5-brings-config-driven-import-and-checks\n",
    "- https://www.hashicorp.com/blog/terraform-1-6-adds-a-test-framework-for-enhanced-code-validation\n",
    "- https://www.hashicorp.com/blog/terraform-1-7-adds-test-mocking-and-config-driven-remove\n",
    "- https://www.hashicorp.com/blog/terraform-1-8-improves-extensibility-with-provider-defined-functions\n"
   ]
  },
  {
   "cell_type": "markdown",
   "id": "ad732a18-531f-4ab4-9f2b-9753c451f6e7",
   "metadata": {},
   "source": [
    "<hr/>\n",
    "\n",
    "# 1.11 Summary\n",
    "\n",
    "In this section we\n",
    "\n",
    "- Downloaded\n",
    "  - the ```Terraform``` binary.\n",
    "\n",
    "- Created minimalist Terraform configurations to start to use the init/plan/apply workflow\n",
    "   - ```terraform init``` which downloads any modules or providers\n",
    "   - ```terraform plan``` to see what changes would be made by applying this plan.\n",
    "       Terraform plan never makes changes.\n",
    "   - ```terraform apply``` and confirmed that we wish to make the change\n",
    "   - ```terraform destroy``` to destroy all managed resources\n",
    "\n",
    "- Created Files using terraform as a simplistic example of managing resources with Terraform\n",
    "- Looked at ways of interrogating the state of resources"
   ]
  },
  {
   "cell_type": "markdown",
   "id": "4323c327-514f-4d07-837e-7eb78178b730",
   "metadata": {},
   "source": [
    "# Pragma --EXCLUDE--SECTION--\n",
    "\n",
    "## **NOTE:** Save notebook first\n",
    "\n",
    "<div id=\"END\" /> <a href=\"#TOP\" > TOP OF PAGE </a>  <!-- must appear after EXCLUDE pragma !! -->"
   ]
  },
  {
   "cell_type": "markdown",
   "id": "7ab0e7ef-61d1-46b3-a668-9bb93fdf061b",
   "metadata": {},
   "source": [
    "<hr/>\n",
    "\n",
    "<!-- Why does this no longer work ??\n",
    "<img src=\"../../../static/images/ThickBlueBar.png\" />\n",
    "<img src=\"../../../static/images/LOGO.jpg\" width=200 />\n",
    "-->\n",
    "\n",
    "<img src=\"../images/ThickBlueBar.png\" />\n",
    "<img src=\"../images/LOGO.jpg\" width=200 />\n",
    "<!-- ![](../images/LOGO.jpg) -->"
   ]
  },
  {
   "cell_type": "code",
   "execution_count": null,
   "id": "883c84d5",
   "metadata": {},
   "outputs": [],
   "source": [
    "#cd ~/nb/2022-Terraform/content/tf-labs/1.InstallTerraform/\n",
    "#cd ~/src/mjbright.tf-scenarios-private/ServeUpLabs/content/azure/1.InstallTerraform\n",
    "\n",
    "#NB_FILTER_NOTEBOOK\n",
    "NB_QUIET"
   ]
  },
  {
   "cell_type": "code",
   "execution_count": null,
   "id": "18c3d23e-b693-4614-826a-a5e16157950b",
   "metadata": {},
   "outputs": [],
   "source": []
  },
  {
   "cell_type": "code",
   "execution_count": null,
   "id": "d7ec9e57-ce9b-4d51-a9af-d6a9b88412b7",
   "metadata": {},
   "outputs": [],
   "source": []
  },
  {
   "cell_type": "markdown",
   "id": "d28051a9-3e12-4b3e-80db-3ba6bde35958",
   "metadata": {},
   "source": [
    "# UNUSED:"
   ]
  },
  {
   "cell_type": "markdown",
   "id": "992cde82-ab0a-47ee-a786-ced4812b3a74",
   "metadata": {},
   "source": [
    "### Use of locals\n",
    "\n",
    "Note in the above, that rather than repeating the rather long paths to parameters we created a ```locals``` block where we defined local variables.  We then used local.cluster_ip to in both output blocks.\n",
    "\n",
    "Use of locals \n",
    "- can avoid repetition, when local values are calculated\n",
    "- can help make code more readable"
   ]
  },
  {
   "cell_type": "markdown",
   "id": "600b1bce-5ba1-4f89-82ac-827c1f2105d0",
   "metadata": {},
   "source": [
    "### terraform.tfstate\n",
    "\n",
    "the raw terraform.tfstate json file\n",
    "\n",
    "### jq\n",
    "\n",
    "```\n",
    "jq '.' terraform.tfstate\n",
    "```\n",
    "\n",
    "Extracting fields using jq:\n",
    "```\n",
    "jq '.resources[0].instances[].attributes' terraform.tfstate\n",
    "```\n",
    "\n",
    "**Note:** This has the disadvantage of no longer working if ```HashiCorp``` the company behind Terraform decides to change the internal structure of the ```terraform.tfstate``` file\n",
    "\n",
    "The available attributes depend upon the type of resource\n",
    "\n",
    "### terraform output\n",
    "\n",
    "We can also obtain any output values using the ```terraform output``` command"
   ]
  },
  {
   "cell_type": "markdown",
   "id": "f8c1e78d-afa4-400d-82cc-91a3765b0083",
   "metadata": {},
   "source": [
    "# UNUSED: Takeaways\n",
    "\n",
    "- We can optionally use the ```kubectl``` tool alongside Terraform as a means to check resources\n",
    "- We performed more work initially to create a single container group with terraform\n",
    "  **BUT** the corresponding configuration\n",
    "  - serves as documentation of the desired configuration\n",
    "  - is idempotent (reproducible): re-applying the same configuration produces the same result\n",
    "  - if the state of the resource changes, then terraform will correct for such drift\n",
    "  - can be reused, e.g. shared with other projects\n",
    "    No more copy/pasting from PDFs to create infrastructure !\n",
    "- the service instance was created with a private ip address\n",
    "  - various attributes are available after the resource has been created\n",
    "- Each resource type is specific to the provider\n",
    "  - Equivalent resources, where they exist, across cloud providers will all be different, e.g. aws_instance or azurerm_linux_virtual_machine,\n",
    "    i.e. they have different config parameters\n",
    "    i.e. they have different attributes populated upon creation\n",
    "    \n",
    "**Note:** The *Kubernetes Provider plugin* is maintained by *HashiCorp* the company behind Terraform\n",
    "      \n",
    "**Note:** The use of the *Kubernetes Provider* is meant as a convenient type of resource which we can quickly create - to facilitate learning Terraform.  It is not recommended to use this Provider for actually managing Kubernetes resources"
   ]
  },
  {
   "cell_type": "markdown",
   "id": "0ae78587-e667-4372-8817-a5a9d083c0f2",
   "metadata": {},
   "source": [
    "# UNUSED: STRETCH-GOALS\n",
    "\n",
    "## 1. Working with Azure resources\n",
    "\n",
    "Refer to the optional\" Lab 1.az Azure Containers Instances\"\n",
    "\n",
    "## 2: Variations on a theme\n",
    "\n",
    "The *github* repo at ```https://github.com/mjbright/tf-scenarios``` contains various demos and also lab solutions (*work in progress*).\n",
    "\n",
    "## 3: Terraform Beta Releases\n",
    "\n",
    "<!-- Well there isn't one ... for the moment, since the recent (December 2020) release of Terraform 0.14 -->\n",
    "\n",
    "What alpha/beta/rc (*release candidate*) releases - ```if any``` have been made since the current stable release of Terraform ?\n",
    "\n",
    "Any alpha/beta releases will appear on\n",
    "- the github release page here: https://github.com/hashicorp/terraform/releases\n",
    "- and also on the *HashiCorp* release page here: https://releases.hashicorp.com/terraform/\n",
    "\n",
    "More information about full and intermediate releases is available on the github repository releases page: https://github.com/hashicorp/terraform/releases\n",
    "\n",
    "#### Downloading\n",
    "\n",
    "You can download a more recent beta or alpha release from either of those locations.\n",
    "\n",
    "**Note**: Of course beta releases bring risk, but we're only in a lab environment (with real resources).\n",
    "\n",
    "You'll probably have less trouble if you use terraform or terraform_beta in the same workspace.\n",
    "\n",
    "Switching between both could cause problems.\n",
    "\n",
    "If you wish to try this, we recommend downloading and unpacking the binary as ```terraform_beta``` to differentiate from the current stable version.\n",
    "\n",
    "You can refer to the CHANGELOG at https://github.com/hashicorp/terraform/blob/main/CHANGELOG.md to learn more about the different releases.\n",
    "\n",
    "<!--\n",
    "### Blog Post about the latest beta release:\n",
    "https://www.hashicorp.com/blog/announcing-hashicorp-terraform-0-14-beta\n",
    "-->\n",
    "\n",
    "Verify the versions you have installed using the ```terraform version``` and ```terraform_beta version``` commands."
   ]
  },
  {
   "cell_type": "code",
   "execution_count": null,
   "id": "92894c37",
   "metadata": {},
   "outputs": [],
   "source": [
    "__FN_LAB_ENV"
   ]
  },
  {
   "cell_type": "code",
   "execution_count": null,
   "id": "f36a1ced-5c17-446b-b397-43dbe920b5b6",
   "metadata": {},
   "outputs": [],
   "source": []
  }
 ],
 "metadata": {
  "jupytext": {
   "encoding": "# -*- coding: utf-8 -*-",
   "formats": "ipynb,sh:percent"
  },
  "kernelspec": {
   "display_name": "Bash",
   "language": "bash",
   "name": "bash"
  },
  "language_info": {
   "codemirror_mode": "shell",
   "file_extension": ".sh",
   "mimetype": "text/x-sh",
   "name": "bash"
  }
 },
 "nbformat": 4,
 "nbformat_minor": 5
}
